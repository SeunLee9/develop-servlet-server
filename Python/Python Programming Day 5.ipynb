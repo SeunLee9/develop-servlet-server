{
 "cells": [
  {
   "cell_type": "code",
   "execution_count": 2,
   "id": "3209c9b4",
   "metadata": {},
   "outputs": [
    {
     "ename": "TypeError",
     "evalue": "sorted expected 1 argument, got 0",
     "output_type": "error",
     "traceback": [
      "\u001b[1;31m---------------------------------------------------------------------------\u001b[0m",
      "\u001b[1;31mTypeError\u001b[0m                                 Traceback (most recent call last)",
      "Input \u001b[1;32mIn [2]\u001b[0m, in \u001b[0;36m<cell line: 1>\u001b[1;34m()\u001b[0m\n\u001b[1;32m----> 1\u001b[0m \u001b[38;5;28;43msorted\u001b[39;49m\u001b[43m(\u001b[49m\u001b[43m)\u001b[49m\n",
      "\u001b[1;31mTypeError\u001b[0m: sorted expected 1 argument, got 0"
     ]
    }
   ],
   "source": [
    "sorted() #원하는 타입을 넣을수있음 변화는 딱히 없음, 사용하는 이유는 리스트뿐만아니라 딕셔너리도 올릴수있어서"
   ]
  },
  {
   "cell_type": "code",
   "execution_count": 6,
   "id": "cf99f340",
   "metadata": {},
   "outputs": [],
   "source": [
    "#sorted 이름처럼 정렬해주는거\n",
    "#len같은경우는 쉽게 쓸수있지만 원하는 기준이있다면 그 기준대로 함수를 만들어줘야한다\n",
    "#여기서 key는 딕셔너리의 키 밸류 할때 그 키가 아니다 내가 분류하고싶은기준이 되는 수치다 헷갈리지말것"
   ]
  },
  {
   "cell_type": "code",
   "execution_count": null,
   "id": "ec025170",
   "metadata": {},
   "outputs": [],
   "source": []
  },
  {
   "cell_type": "markdown",
   "id": "f5dd7109",
   "metadata": {},
   "source": [
    "## 람다표현식"
   ]
  },
  {
   "cell_type": "code",
   "execution_count": null,
   "id": "c95106b9",
   "metadata": {},
   "outputs": [],
   "source": [
    "def "
   ]
  },
  {
   "cell_type": "code",
   "execution_count": null,
   "id": "abd23e54",
   "metadata": {},
   "outputs": [],
   "source": []
  },
  {
   "cell_type": "code",
   "execution_count": 7,
   "id": "d2320c06",
   "metadata": {},
   "outputs": [],
   "source": [
    "#람다표현식은 언제 사용하는가?"
   ]
  },
  {
   "cell_type": "code",
   "execution_count": 8,
   "id": "7d971aa8",
   "metadata": {},
   "outputs": [],
   "source": [
    "#람다표현식은 익명함수라고도 한다 들어온 입력에 대해 출력을하는거기때문"
   ]
  },
  {
   "cell_type": "code",
   "execution_count": null,
   "id": "828121d6",
   "metadata": {},
   "outputs": [],
   "source": []
  },
  {
   "cell_type": "code",
   "execution_count": 9,
   "id": "e089dd61",
   "metadata": {},
   "outputs": [],
   "source": [
    "#여기서 plus_ten은 사용자정의함수를 가르키는 변수"
   ]
  },
  {
   "cell_type": "code",
   "execution_count": 10,
   "id": "ac0018cc",
   "metadata": {},
   "outputs": [],
   "source": [
    "# lambda x:x+10(1)은 안된다 괄호로 묶어줘야했는데 왜 그런가?"
   ]
  },
  {
   "cell_type": "code",
   "execution_count": 11,
   "id": "0244ac9b",
   "metadata": {},
   "outputs": [],
   "source": [
    "#일괄 적용하고싶을땐 어떻게했었지?\n",
    "#map(적용할함수, [1,2,3]) 이렇게 했었다"
   ]
  },
  {
   "cell_type": "code",
   "execution_count": null,
   "id": "5aefb438",
   "metadata": {},
   "outputs": [],
   "source": []
  },
  {
   "cell_type": "code",
   "execution_count": null,
   "id": "3b4316c8",
   "metadata": {},
   "outputs": [],
   "source": []
  },
  {
   "cell_type": "code",
   "execution_count": 12,
   "id": "57541705",
   "metadata": {},
   "outputs": [],
   "source": [
    "# 하는게 없는데 문법을 맞춰주기위해서는 pass를 쓴다고한다 내가 지금 pass인거같다 휴"
   ]
  },
  {
   "cell_type": "code",
   "execution_count": null,
   "id": "a3a0665d",
   "metadata": {},
   "outputs": [],
   "source": []
  },
  {
   "cell_type": "markdown",
   "id": "f9fb9fba",
   "metadata": {},
   "source": [
    "-예외처리는 java랑 비슷한듯"
   ]
  },
  {
   "cell_type": "code",
   "execution_count": 13,
   "id": "10730b10",
   "metadata": {},
   "outputs": [],
   "source": [
    "#이터레이터\n",
    "#값이 필요한 시점이 됐을때 값을 만드는 방식\n",
    "#이거 예전에 JOIN했을때 지연시켜서 실행하는거랑 비슷한거같은데"
   ]
  },
  {
   "cell_type": "code",
   "execution_count": null,
   "id": "68b0a6e7",
   "metadata": {},
   "outputs": [],
   "source": [
    "#dir()쓰면 사용가능한 함수들 볼수있음"
   ]
  },
  {
   "cell_type": "code",
   "execution_count": null,
   "id": "17f81d1b",
   "metadata": {},
   "outputs": [],
   "source": []
  },
  {
   "cell_type": "code",
   "execution_count": null,
   "id": "ff1fe305",
   "metadata": {},
   "outputs": [],
   "source": []
  },
  {
   "cell_type": "code",
   "execution_count": null,
   "id": "f5094e6b",
   "metadata": {},
   "outputs": [],
   "source": []
  }
 ],
 "metadata": {
  "kernelspec": {
   "display_name": "Python 3 (ipykernel)",
   "language": "python",
   "name": "python3"
  },
  "language_info": {
   "codemirror_mode": {
    "name": "ipython",
    "version": 3
   },
   "file_extension": ".py",
   "mimetype": "text/x-python",
   "name": "python",
   "nbconvert_exporter": "python",
   "pygments_lexer": "ipython3",
   "version": "3.9.12"
  }
 },
 "nbformat": 4,
 "nbformat_minor": 5
}
