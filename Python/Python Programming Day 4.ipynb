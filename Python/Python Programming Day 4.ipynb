{
 "cells": [
  {
   "cell_type": "code",
   "execution_count": 1,
   "id": "91513f87",
   "metadata": {},
   "outputs": [],
   "source": [
    "a = [8, 7, 6]\n",
    "b = [6, 5, 4]"
   ]
  },
  {
   "cell_type": "code",
   "execution_count": 4,
   "id": "0ae9da35",
   "metadata": {},
   "outputs": [
    {
     "data": {
      "text/plain": [
       "[8, 7, 6, 6, 6]"
      ]
     },
     "execution_count": 4,
     "metadata": {},
     "output_type": "execute_result"
    }
   ],
   "source": [
    "a.append(6)\n",
    "a"
   ]
  },
  {
   "cell_type": "code",
   "execution_count": 7,
   "id": "c1988dff",
   "metadata": {},
   "outputs": [
    {
     "data": {
      "text/plain": [
       "[8, 7, 6, 6, 6, 6, 5, 4, 6, 5, 4]"
      ]
     },
     "execution_count": 7,
     "metadata": {},
     "output_type": "execute_result"
    }
   ],
   "source": [
    "a.extend(b)\n",
    "a"
   ]
  },
  {
   "cell_type": "code",
   "execution_count": 11,
   "id": "3067c37e",
   "metadata": {},
   "outputs": [
    {
     "data": {
      "text/plain": [
       "[8, 7, 6, 6, 6, 's', 's', 6, 5, 4, 6, 5, 4]"
      ]
     },
     "execution_count": 11,
     "metadata": {},
     "output_type": "execute_result"
    }
   ],
   "source": [
    "a.insert(5,\"s\")\n",
    "a"
   ]
  },
  {
   "cell_type": "code",
   "execution_count": 13,
   "id": "a21b169d",
   "metadata": {},
   "outputs": [
    {
     "data": {
      "text/plain": [
       "[8, 7, 6, 1000, 1000, 6, 6, 's', 's', 6, 5, 4, 6, 5, 4]"
      ]
     },
     "execution_count": 13,
     "metadata": {},
     "output_type": "execute_result"
    }
   ],
   "source": [
    "a.insert(len(b), 1000) #인덱스대신에 len같은길이를 쓸수도있음 b의 길이가 3이니깐 len(b) = 3 , 인덱스 3을 지정한거임\n",
    "a"
   ]
  },
  {
   "cell_type": "code",
   "execution_count": 14,
   "id": "66c75d9d",
   "metadata": {},
   "outputs": [],
   "source": [
    "# append는 요소 하나를 추가하는거고\n",
    "# extend는 메인리스트에 리스트를 추가하는것\n",
    "# a+b같은 방식으로 리스트를 더하면 새로운 객체가 생성되는것\n",
    "# insert는 특정 인덱스에 요소를 추가\n",
    "# pop()은 마지막요소나 특정 인덱스의 요소를 삭제함 (마지막 인덱스 요소를 삭제함과 동시에 그 요소를 리턴)\n",
    "# remove는 특정값을 삭제함\n",
    "# index()는 특정값의 인덱스를 찾음\n",
    "# count()는 특정값의 개수를 셈\n",
    "# reverse()는 리스트의 요소의 순서를 반대로\n",
    "# sort()는 리스트의 요소 정렬(기본값은 오름차순)\n",
    "# clear()는 리스트의 모든 요소 삭제"
   ]
  },
  {
   "cell_type": "code",
   "execution_count": 16,
   "id": "8bf195e4",
   "metadata": {},
   "outputs": [],
   "source": [
    "a = [1000, \"s\", True, 9]\n",
    "b = a\n",
    "c = a.copy()"
   ]
  },
  {
   "cell_type": "code",
   "execution_count": 17,
   "id": "e3e73dc1",
   "metadata": {},
   "outputs": [
    {
     "data": {
      "text/plain": [
       "True"
      ]
     },
     "execution_count": 17,
     "metadata": {},
     "output_type": "execute_result"
    }
   ],
   "source": [
    "b is a"
   ]
  },
  {
   "cell_type": "code",
   "execution_count": 18,
   "id": "87d0c0f0",
   "metadata": {},
   "outputs": [
    {
     "data": {
      "text/plain": [
       "False"
      ]
     },
     "execution_count": 18,
     "metadata": {},
     "output_type": "execute_result"
    }
   ],
   "source": [
    "c is a"
   ]
  },
  {
   "cell_type": "code",
   "execution_count": 19,
   "id": "c8fd3b45",
   "metadata": {},
   "outputs": [],
   "source": [
    "# 리스트 할당은 깊은복사?\n",
    "# 리스트 복사는 얕은복사?"
   ]
  },
  {
   "cell_type": "code",
   "execution_count": 20,
   "id": "1c7e509b",
   "metadata": {},
   "outputs": [],
   "source": [
    "a = [10, 5, 1]"
   ]
  },
  {
   "cell_type": "code",
   "execution_count": 22,
   "id": "711b9990",
   "metadata": {},
   "outputs": [
    {
     "name": "stdout",
     "output_type": "stream",
     "text": [
      "10\n",
      "5\n",
      "1\n"
     ]
    }
   ],
   "source": [
    "for s in a:\n",
    "    print(s)"
   ]
  },
  {
   "cell_type": "code",
   "execution_count": 24,
   "id": "a6fea5db",
   "metadata": {},
   "outputs": [
    {
     "name": "stdout",
     "output_type": "stream",
     "text": [
      "0 10\n",
      "1 5\n",
      "2 1\n"
     ]
    }
   ],
   "source": [
    "for s, o in enumerate(a):\n",
    "    print(s, o) #s는 인덱스 o는 요소"
   ]
  },
  {
   "cell_type": "code",
   "execution_count": 27,
   "id": "0ca32901",
   "metadata": {},
   "outputs": [
    {
     "name": "stdout",
     "output_type": "stream",
     "text": [
      "2 10\n",
      "3 5\n",
      "4 1\n"
     ]
    }
   ],
   "source": [
    "for r, j in enumerate(a, start=2):\n",
    "    print(r, j) #인덱스를 몇부터 시작할건지 지정가능"
   ]
  },
  {
   "cell_type": "code",
   "execution_count": 32,
   "id": "c56c5240",
   "metadata": {},
   "outputs": [],
   "source": [
    "emp = []"
   ]
  },
  {
   "cell_type": "code",
   "execution_count": 33,
   "id": "6859a69c",
   "metadata": {},
   "outputs": [],
   "source": [
    "for x in range(11):\n",
    "    emp.append(x) #0부터 하나씩 더해준다 마지막껀뺴고"
   ]
  },
  {
   "cell_type": "code",
   "execution_count": 34,
   "id": "8ce81c85",
   "metadata": {},
   "outputs": [
    {
     "data": {
      "text/plain": [
       "[0, 1, 2, 3, 4, 5, 6, 7, 8, 9, 10]"
      ]
     },
     "execution_count": 34,
     "metadata": {},
     "output_type": "execute_result"
    }
   ],
   "source": [
    "emp"
   ]
  },
  {
   "cell_type": "code",
   "execution_count": 36,
   "id": "26066f0d",
   "metadata": {},
   "outputs": [
    {
     "ename": "SyntaxError",
     "evalue": "cannot assign to function call (3029962543.py, line 1)",
     "output_type": "error",
     "traceback": [
      "\u001b[1;36m  Input \u001b[1;32mIn [36]\u001b[1;36m\u001b[0m\n\u001b[1;33m    for float(x) in range(11):\u001b[0m\n\u001b[1;37m        ^\u001b[0m\n\u001b[1;31mSyntaxError\u001b[0m\u001b[1;31m:\u001b[0m cannot assign to function call\n"
     ]
    }
   ],
   "source": [
    "for float(x) in range(11):\n",
    "    emp.append(x) #이런건 안됨"
   ]
  },
  {
   "cell_type": "code",
   "execution_count": 37,
   "id": "f0bd7821",
   "metadata": {},
   "outputs": [
    {
     "data": {
      "text/plain": [
       "[0.0,\n",
       " 1.0,\n",
       " 2.0,\n",
       " 3.0,\n",
       " 4.0,\n",
       " 5.0,\n",
       " 6.0,\n",
       " 7.0,\n",
       " 8.0,\n",
       " 9.0,\n",
       " 10.0,\n",
       " 11.0,\n",
       " 12.0,\n",
       " 13.0,\n",
       " 14.0,\n",
       " 15.0,\n",
       " 16.0,\n",
       " 17.0,\n",
       " 18.0,\n",
       " 19.0,\n",
       " 20.0]"
      ]
     },
     "execution_count": 37,
     "metadata": {},
     "output_type": "execute_result"
    }
   ],
   "source": [
    "[float(x) for x in range(21)]"
   ]
  },
  {
   "cell_type": "code",
   "execution_count": 39,
   "id": "b6b145ea",
   "metadata": {},
   "outputs": [],
   "source": [
    "word = [\"never\", \"never\", \"give\", \"up\"]"
   ]
  },
  {
   "cell_type": "code",
   "execution_count": 40,
   "id": "e42139ec",
   "metadata": {},
   "outputs": [
    {
     "data": {
      "text/plain": [
       "[5, 5, 4, 2]"
      ]
     },
     "execution_count": 40,
     "metadata": {},
     "output_type": "execute_result"
    }
   ],
   "source": [
    "[len(ins) for ins in word] #리스트만드는데 어떤리스트? word의 ins, 그 ins의 길이를 가지는 리스트"
   ]
  },
  {
   "cell_type": "code",
   "execution_count": 41,
   "id": "c29724db",
   "metadata": {},
   "outputs": [
    {
     "name": "stdout",
     "output_type": "stream",
     "text": [
      "['give']\n"
     ]
    }
   ],
   "source": [
    "#기존 리스트를 이용해서 새로운 리스트만들기\n",
    "wordt = [ins for ins in word if len(ins) == 4]\n",
    "print(wordt)"
   ]
  },
  {
   "cell_type": "code",
   "execution_count": 43,
   "id": "a5276bd9",
   "metadata": {},
   "outputs": [
    {
     "name": "stdout",
     "output_type": "stream",
     "text": [
      "['never', 'never']\n"
     ]
    }
   ],
   "source": [
    "# 반복문과 리스트 append 이용\n",
    "b= []\n",
    "for i in range(len(word)):\n",
    "    if len(word[i]) == 5:\n",
    "        b.append(word[i])\n",
    "print(b)\n",
    "#음..."
   ]
  },
  {
   "cell_type": "code",
   "execution_count": 44,
   "id": "be8b2c55",
   "metadata": {},
   "outputs": [
    {
     "data": {
      "text/plain": [
       "[1, 2, 3, 4]"
      ]
     },
     "execution_count": 44,
     "metadata": {},
     "output_type": "execute_result"
    }
   ],
   "source": [
    "a = [1.2, 2.5, 3.7, 4.6]\n",
    "for i in range(len(a)):\n",
    "    a[i] = int(a[i])\n",
    "a    \n",
    "#정수로"
   ]
  },
  {
   "cell_type": "code",
   "execution_count": 45,
   "id": "595e61c1",
   "metadata": {},
   "outputs": [
    {
     "data": {
      "text/plain": [
       "[1, 2, 3, 4]"
      ]
     },
     "execution_count": 45,
     "metadata": {},
     "output_type": "execute_result"
    }
   ],
   "source": [
    "a = [1.2, 2.5, 3.7, 4.6]\n",
    "a = list(map(int, a))\n",
    "a\n",
    "#정수로2"
   ]
  },
  {
   "cell_type": "code",
   "execution_count": 47,
   "id": "5efa00ab",
   "metadata": {},
   "outputs": [
    {
     "data": {
      "text/plain": [
       "1"
      ]
     },
     "execution_count": 47,
     "metadata": {},
     "output_type": "execute_result"
    }
   ],
   "source": [
    "a.index(2) # 인덱스 구하기"
   ]
  },
  {
   "cell_type": "code",
   "execution_count": 49,
   "id": "264c3212",
   "metadata": {},
   "outputs": [
    {
     "data": {
      "text/plain": [
       "1"
      ]
     },
     "execution_count": 49,
     "metadata": {},
     "output_type": "execute_result"
    }
   ],
   "source": [
    "a.count(2) # 이 값을 가지고있는건 몇개?"
   ]
  },
  {
   "cell_type": "code",
   "execution_count": 50,
   "id": "5eb53e83",
   "metadata": {},
   "outputs": [
    {
     "data": {
      "text/plain": [
       "'never give up'"
      ]
     },
     "execution_count": 50,
     "metadata": {},
     "output_type": "execute_result"
    }
   ],
   "source": [
    "#대체\n",
    "i = \"never give down\"\n",
    "x = i.replace(\"down\", \"up\")\n",
    "x"
   ]
  },
  {
   "cell_type": "code",
   "execution_count": 52,
   "id": "6147b625",
   "metadata": {
    "scrolled": true
   },
   "outputs": [
    {
     "data": {
      "text/plain": [
       "['never', 'give', 'down']"
      ]
     },
     "execution_count": 52,
     "metadata": {},
     "output_type": "execute_result"
    }
   ],
   "source": [
    "#쪼개기\n",
    "y = i.split()\n",
    "y"
   ]
  },
  {
   "cell_type": "code",
   "execution_count": 57,
   "id": "3338fe9f",
   "metadata": {},
   "outputs": [
    {
     "data": {
      "text/plain": [
       "'n-e-v-e-r- -g-i-v-e- -d-o-w-n'"
      ]
     },
     "execution_count": 57,
     "metadata": {},
     "output_type": "execute_result"
    }
   ],
   "source": [
    "'-'.join(i) #문자열로 안나눠져있다면 이런식으로 되는구나"
   ]
  },
  {
   "cell_type": "code",
   "execution_count": 58,
   "id": "5425acd4",
   "metadata": {},
   "outputs": [
    {
     "data": {
      "text/plain": [
       "'never-give-down'"
      ]
     },
     "execution_count": 58,
     "metadata": {},
     "output_type": "execute_result"
    }
   ],
   "source": [
    "'-'.join(y)"
   ]
  },
  {
   "cell_type": "code",
   "execution_count": 60,
   "id": "d8359dc7",
   "metadata": {},
   "outputs": [],
   "source": [
    "# .lstrip(),.rstrip(),.strip() 공백자르기인데 안에 특정문자 넣어서 자를수도있음"
   ]
  },
  {
   "cell_type": "code",
   "execution_count": 68,
   "id": "2d998ab5",
   "metadata": {},
   "outputs": [
    {
     "data": {
      "text/plain": [
       "' sssss  '"
      ]
     },
     "execution_count": 68,
     "metadata": {},
     "output_type": "execute_result"
    }
   ],
   "source": [
    "'sssss'.center(8) ## 공백이 추가되네"
   ]
  },
  {
   "cell_type": "code",
   "execution_count": 72,
   "id": "0b9c9044",
   "metadata": {},
   "outputs": [
    {
     "data": {
      "text/plain": [
       "11"
      ]
     },
     "execution_count": 72,
     "metadata": {},
     "output_type": "execute_result"
    }
   ],
   "source": [
    "i.find('down') #문자열에서 특정문자열을 찾아서 반환하는데 난 never give down에서 down을 찾았다 0부터 공백까지 포함해서 down이 시작하는것은 11"
   ]
  },
  {
   "cell_type": "code",
   "execution_count": 74,
   "id": "74760876",
   "metadata": {},
   "outputs": [
    {
     "data": {
      "text/plain": [
       "11"
      ]
     },
     "execution_count": 74,
     "metadata": {},
     "output_type": "execute_result"
    }
   ],
   "source": [
    "i.rfind('down') #rfind는 뭐지?"
   ]
  },
  {
   "cell_type": "code",
   "execution_count": 77,
   "id": "845d5e33",
   "metadata": {},
   "outputs": [
    {
     "data": {
      "text/plain": [
       "-1"
      ]
     },
     "execution_count": 77,
     "metadata": {},
     "output_type": "execute_result"
    }
   ],
   "source": [
    "i.find('nevec') #문자열에서 특정문자열을 찾지못하면 -1을 반환"
   ]
  },
  {
   "cell_type": "code",
   "execution_count": 80,
   "id": "ccdc0eb3",
   "metadata": {},
   "outputs": [
    {
     "data": {
      "text/plain": [
       "11"
      ]
     },
     "execution_count": 80,
     "metadata": {},
     "output_type": "execute_result"
    }
   ],
   "source": [
    "i.index('down') #find랑 다른것같은데 뭐가 다르지? 없으면 -1을 반환하는게아니라 에러를 반환, 근데 이거말고도 다른점이 있을텐데"
   ]
  },
  {
   "cell_type": "code",
   "execution_count": 81,
   "id": "010c2bd0",
   "metadata": {},
   "outputs": [],
   "source": [
    "#서식지정자 %쓰는거 printf에서 봤다"
   ]
  },
  {
   "cell_type": "code",
   "execution_count": 82,
   "id": "9b8ef191",
   "metadata": {},
   "outputs": [],
   "source": [
    "#딕셔너리\n",
    "z = {'z':1, 'y':3, 'x':5}"
   ]
  },
  {
   "cell_type": "code",
   "execution_count": 83,
   "id": "8f85e5c4",
   "metadata": {},
   "outputs": [
    {
     "data": {
      "text/plain": [
       "{'z': 1, 'y': 3, 'x': 5}"
      ]
     },
     "execution_count": 83,
     "metadata": {},
     "output_type": "execute_result"
    }
   ],
   "source": [
    "z"
   ]
  },
  {
   "cell_type": "code",
   "execution_count": 84,
   "id": "609e6a80",
   "metadata": {
    "scrolled": true
   },
   "outputs": [
    {
     "data": {
      "text/plain": [
       "100"
      ]
     },
     "execution_count": 84,
     "metadata": {},
     "output_type": "execute_result"
    }
   ],
   "source": [
    "z.setdefault('a',100) #키와 값을 동시에 추가"
   ]
  },
  {
   "cell_type": "code",
   "execution_count": 85,
   "id": "90462102",
   "metadata": {},
   "outputs": [
    {
     "data": {
      "text/plain": [
       "{'z': 1, 'y': 3, 'x': 5, 'a': 100}"
      ]
     },
     "execution_count": 85,
     "metadata": {},
     "output_type": "execute_result"
    }
   ],
   "source": [
    "z"
   ]
  },
  {
   "cell_type": "code",
   "execution_count": 86,
   "id": "102c8411",
   "metadata": {},
   "outputs": [],
   "source": [
    "z.update(a=999) # 특정키의 값을 수정하는거, 키가 없는값이면 키와 값 둘다 추가 문자열일 경우에는 따옴표없이 사용가능하다"
   ]
  },
  {
   "cell_type": "code",
   "execution_count": 87,
   "id": "f7349838",
   "metadata": {},
   "outputs": [
    {
     "data": {
      "text/plain": [
       "{'z': 1, 'y': 3, 'x': 5, 'a': 999}"
      ]
     },
     "execution_count": 87,
     "metadata": {},
     "output_type": "execute_result"
    }
   ],
   "source": [
    "z"
   ]
  },
  {
   "cell_type": "code",
   "execution_count": 88,
   "id": "e3714603",
   "metadata": {},
   "outputs": [],
   "source": [
    "z.update(b=1001)"
   ]
  },
  {
   "cell_type": "code",
   "execution_count": 89,
   "id": "dcba8c47",
   "metadata": {
    "scrolled": true
   },
   "outputs": [
    {
     "data": {
      "text/plain": [
       "{'z': 1, 'y': 3, 'x': 5, 'a': 999, 'b': 1001}"
      ]
     },
     "execution_count": 89,
     "metadata": {},
     "output_type": "execute_result"
    }
   ],
   "source": [
    "z"
   ]
  },
  {
   "cell_type": "code",
   "execution_count": 90,
   "id": "3f52c611",
   "metadata": {},
   "outputs": [],
   "source": [
    "#여기서 값이 안나오는것들은 전부 java로 치면 void 같은거겠구나"
   ]
  },
  {
   "cell_type": "code",
   "execution_count": 96,
   "id": "3a0e00a0",
   "metadata": {},
   "outputs": [
    {
     "data": {
      "text/plain": [
       "600000"
      ]
     },
     "execution_count": 96,
     "metadata": {},
     "output_type": "execute_result"
    }
   ],
   "source": [
    "z.pop('c',600000) #pop('키')를 입력하면 키와 값을 삭제한다, 하지만 키가 없을경우 함께 입력해준 기본값을 반환한다 기본값이 입력되어있지않으면 에러발생"
   ]
  },
  {
   "cell_type": "code",
   "execution_count": 97,
   "id": "4dd8b28f",
   "metadata": {},
   "outputs": [],
   "source": [
    "#모든키와 값을 삭제하는건 .clear()"
   ]
  },
  {
   "cell_type": "code",
   "execution_count": 102,
   "id": "47613819",
   "metadata": {},
   "outputs": [
    {
     "data": {
      "text/plain": [
       "213233"
      ]
     },
     "execution_count": 102,
     "metadata": {},
     "output_type": "execute_result"
    }
   ],
   "source": [
    "z.get('e',213233) #get('키')를 입력하면 특정 키의 값을 가져온다 하지만 키가 없을경우 .pop()과 비슷하게 기본값을 반환한다 (그리고 .pop과 다르게 기본값이 없어도 에러가 발생하진않는다 아무값도 반환하지않을뿐)"
   ]
  },
  {
   "cell_type": "code",
   "execution_count": null,
   "id": "8e2686c9",
   "metadata": {},
   "outputs": [],
   "source": []
  },
  {
   "cell_type": "code",
   "execution_count": null,
   "id": "5eee53ae",
   "metadata": {},
   "outputs": [],
   "source": []
  },
  {
   "cell_type": "code",
   "execution_count": null,
   "id": "6e14ab0c",
   "metadata": {},
   "outputs": [],
   "source": []
  },
  {
   "cell_type": "code",
   "execution_count": null,
   "id": "2aeac14b",
   "metadata": {},
   "outputs": [],
   "source": []
  },
  {
   "cell_type": "code",
   "execution_count": null,
   "id": "bc80b3fd",
   "metadata": {},
   "outputs": [],
   "source": []
  },
  {
   "cell_type": "code",
   "execution_count": null,
   "id": "8ebac3a8",
   "metadata": {},
   "outputs": [],
   "source": []
  },
  {
   "cell_type": "code",
   "execution_count": null,
   "id": "ecd88a95",
   "metadata": {},
   "outputs": [],
   "source": []
  },
  {
   "cell_type": "code",
   "execution_count": null,
   "id": "6ffbccc4",
   "metadata": {},
   "outputs": [],
   "source": []
  },
  {
   "cell_type": "code",
   "execution_count": null,
   "id": "e9fa49f4",
   "metadata": {},
   "outputs": [],
   "source": []
  },
  {
   "cell_type": "code",
   "execution_count": null,
   "id": "f984cf88",
   "metadata": {},
   "outputs": [],
   "source": []
  },
  {
   "cell_type": "code",
   "execution_count": null,
   "id": "cc14837c",
   "metadata": {},
   "outputs": [],
   "source": []
  },
  {
   "cell_type": "code",
   "execution_count": null,
   "id": "9e4b691f",
   "metadata": {},
   "outputs": [],
   "source": []
  },
  {
   "cell_type": "code",
   "execution_count": null,
   "id": "9a965ecf",
   "metadata": {},
   "outputs": [],
   "source": []
  },
  {
   "cell_type": "code",
   "execution_count": null,
   "id": "72e06a62",
   "metadata": {},
   "outputs": [],
   "source": []
  },
  {
   "cell_type": "code",
   "execution_count": null,
   "id": "81370393",
   "metadata": {},
   "outputs": [],
   "source": []
  },
  {
   "cell_type": "code",
   "execution_count": null,
   "id": "e3297bbc",
   "metadata": {},
   "outputs": [],
   "source": []
  },
  {
   "cell_type": "code",
   "execution_count": null,
   "id": "a7253bad",
   "metadata": {},
   "outputs": [],
   "source": []
  },
  {
   "cell_type": "code",
   "execution_count": null,
   "id": "09e29167",
   "metadata": {},
   "outputs": [],
   "source": []
  },
  {
   "cell_type": "code",
   "execution_count": null,
   "id": "a1e59ca3",
   "metadata": {},
   "outputs": [],
   "source": []
  },
  {
   "cell_type": "code",
   "execution_count": null,
   "id": "ca0e4adb",
   "metadata": {},
   "outputs": [],
   "source": []
  },
  {
   "cell_type": "code",
   "execution_count": null,
   "id": "6a18be64",
   "metadata": {},
   "outputs": [],
   "source": []
  },
  {
   "cell_type": "code",
   "execution_count": null,
   "id": "6f2ef25f",
   "metadata": {},
   "outputs": [],
   "source": []
  },
  {
   "cell_type": "code",
   "execution_count": null,
   "id": "413dfee9",
   "metadata": {},
   "outputs": [],
   "source": []
  },
  {
   "cell_type": "code",
   "execution_count": null,
   "id": "ae176a55",
   "metadata": {},
   "outputs": [],
   "source": []
  },
  {
   "cell_type": "code",
   "execution_count": null,
   "id": "b0f327d7",
   "metadata": {},
   "outputs": [],
   "source": []
  },
  {
   "cell_type": "code",
   "execution_count": null,
   "id": "68221c7f",
   "metadata": {},
   "outputs": [],
   "source": []
  },
  {
   "cell_type": "code",
   "execution_count": null,
   "id": "9f6f70a1",
   "metadata": {},
   "outputs": [],
   "source": []
  },
  {
   "cell_type": "code",
   "execution_count": null,
   "id": "8ac4f35e",
   "metadata": {},
   "outputs": [],
   "source": []
  },
  {
   "cell_type": "code",
   "execution_count": null,
   "id": "b16f841f",
   "metadata": {},
   "outputs": [],
   "source": []
  },
  {
   "cell_type": "code",
   "execution_count": null,
   "id": "da0b6c3c",
   "metadata": {},
   "outputs": [],
   "source": []
  },
  {
   "cell_type": "code",
   "execution_count": null,
   "id": "95ce735d",
   "metadata": {},
   "outputs": [],
   "source": []
  },
  {
   "cell_type": "code",
   "execution_count": null,
   "id": "cf6445ac",
   "metadata": {},
   "outputs": [],
   "source": []
  },
  {
   "cell_type": "code",
   "execution_count": null,
   "id": "4a2ad432",
   "metadata": {},
   "outputs": [],
   "source": []
  },
  {
   "cell_type": "code",
   "execution_count": null,
   "id": "d270df4c",
   "metadata": {},
   "outputs": [],
   "source": []
  },
  {
   "cell_type": "code",
   "execution_count": null,
   "id": "0b24691d",
   "metadata": {},
   "outputs": [],
   "source": []
  },
  {
   "cell_type": "code",
   "execution_count": null,
   "id": "2007fd1a",
   "metadata": {},
   "outputs": [],
   "source": []
  },
  {
   "cell_type": "code",
   "execution_count": null,
   "id": "e00f3f78",
   "metadata": {},
   "outputs": [],
   "source": []
  },
  {
   "cell_type": "code",
   "execution_count": null,
   "id": "4ca2ab3a",
   "metadata": {},
   "outputs": [],
   "source": []
  },
  {
   "cell_type": "code",
   "execution_count": null,
   "id": "b16c3e20",
   "metadata": {},
   "outputs": [],
   "source": []
  },
  {
   "cell_type": "code",
   "execution_count": null,
   "id": "ecd7a76d",
   "metadata": {},
   "outputs": [],
   "source": []
  },
  {
   "cell_type": "code",
   "execution_count": null,
   "id": "5e84ab71",
   "metadata": {},
   "outputs": [],
   "source": []
  },
  {
   "cell_type": "code",
   "execution_count": null,
   "id": "bd391ead",
   "metadata": {},
   "outputs": [],
   "source": []
  },
  {
   "cell_type": "code",
   "execution_count": null,
   "id": "1172d8cb",
   "metadata": {},
   "outputs": [],
   "source": []
  },
  {
   "cell_type": "code",
   "execution_count": null,
   "id": "b4cb0b3e",
   "metadata": {},
   "outputs": [],
   "source": []
  },
  {
   "cell_type": "code",
   "execution_count": null,
   "id": "7d2be9c9",
   "metadata": {},
   "outputs": [],
   "source": []
  },
  {
   "cell_type": "code",
   "execution_count": null,
   "id": "64120320",
   "metadata": {},
   "outputs": [],
   "source": []
  }
 ],
 "metadata": {
  "kernelspec": {
   "display_name": "Python 3 (ipykernel)",
   "language": "python",
   "name": "python3"
  },
  "language_info": {
   "codemirror_mode": {
    "name": "ipython",
    "version": 3
   },
   "file_extension": ".py",
   "mimetype": "text/x-python",
   "name": "python",
   "nbconvert_exporter": "python",
   "pygments_lexer": "ipython3",
   "version": "3.9.12"
  }
 },
 "nbformat": 4,
 "nbformat_minor": 5
}
