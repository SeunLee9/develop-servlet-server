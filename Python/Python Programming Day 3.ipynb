{
 "cells": [
  {
   "cell_type": "code",
   "execution_count": null,
   "id": "ce4a9b02",
   "metadata": {},
   "outputs": [],
   "source": [
    "# 딕셔너리는 키와 값이 존재하는 형태\n",
    "# 딕셔너리, 튜플, 리스트, 세트의 차이는?\n",
    "# 구성요소\n",
    "'''\n",
    "딕셔너리 : {키 ; 값} , {}\n",
    "튜플 : , ()\n",
    "리스트 : , []\n",
    "세트 : \n",
    "'''"
   ]
  },
  {
   "cell_type": "code",
   "execution_count": 1,
   "id": "2ae3a867",
   "metadata": {},
   "outputs": [],
   "source": [
    "lux = {(1, 2):490, 'melee':550, 'armor':18.72}  #딕셔너리의 키값에는 읽기만 가능한 hashable 자료형이 와야함"
   ]
  },
  {
   "cell_type": "code",
   "execution_count": 3,
   "id": "06606665",
   "metadata": {},
   "outputs": [
    {
     "data": {
      "text/plain": [
       "490"
      ]
     },
     "execution_count": 3,
     "metadata": {},
     "output_type": "execute_result"
    }
   ],
   "source": [
    "lux[1,2]"
   ]
  },
  {
   "cell_type": "code",
   "execution_count": null,
   "id": "22fd9148",
   "metadata": {},
   "outputs": [],
   "source": [
    "#내장함수 zip으로 키와 값을 엮어서 지정하는것도 가능"
   ]
  },
  {
   "cell_type": "code",
   "execution_count": null,
   "id": "e27af7cc",
   "metadata": {},
   "outputs": [],
   "source": [
    "#시퀀스객체"
   ]
  },
  {
   "cell_type": "code",
   "execution_count": null,
   "id": "9cbda881",
   "metadata": {},
   "outputs": [],
   "source": [
    "#딕셔너리 키값으로 조회,수정,추가 가능"
   ]
  },
  {
   "cell_type": "code",
   "execution_count": null,
   "id": "87b2c6f5",
   "metadata": {},
   "outputs": [],
   "source": [
    "#in , not in 으로 가지고있는 키값인지 확인가능"
   ]
  },
  {
   "cell_type": "code",
   "execution_count": 5,
   "id": "8c8312d6",
   "metadata": {},
   "outputs": [],
   "source": [
    "key = ['a','b','c','d','e']\n",
    "value = [1,2,3,4,5]\n",
    "d = {}"
   ]
  },
  {
   "cell_type": "code",
   "execution_count": 7,
   "id": "d6bdf5d3",
   "metadata": {},
   "outputs": [],
   "source": [
    "d = {zip(key,value)}"
   ]
  },
  {
   "cell_type": "code",
   "execution_count": 9,
   "id": "0c9878c3",
   "metadata": {},
   "outputs": [
    {
     "name": "stdout",
     "output_type": "stream",
     "text": [
      "{<zip object at 0x000001C4BBE9C600>}\n"
     ]
    }
   ],
   "source": [
    "print(d)"
   ]
  },
  {
   "cell_type": "code",
   "execution_count": null,
   "id": "b86b26c3",
   "metadata": {},
   "outputs": [],
   "source": []
  },
  {
   "cell_type": "code",
   "execution_count": null,
   "id": "f4c1143f",
   "metadata": {},
   "outputs": [],
   "source": []
  },
  {
   "cell_type": "code",
   "execution_count": null,
   "id": "dfaf29d4",
   "metadata": {},
   "outputs": [],
   "source": []
  },
  {
   "cell_type": "code",
   "execution_count": null,
   "id": "e8271d08",
   "metadata": {},
   "outputs": [],
   "source": []
  }
 ],
 "metadata": {
  "kernelspec": {
   "display_name": "Python 3 (ipykernel)",
   "language": "python",
   "name": "python3"
  },
  "language_info": {
   "codemirror_mode": {
    "name": "ipython",
    "version": 3
   },
   "file_extension": ".py",
   "mimetype": "text/x-python",
   "name": "python",
   "nbconvert_exporter": "python",
   "pygments_lexer": "ipython3",
   "version": "3.9.12"
  }
 },
 "nbformat": 4,
 "nbformat_minor": 5
}
