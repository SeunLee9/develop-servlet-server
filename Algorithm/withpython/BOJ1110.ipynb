{
 "cells": [
  {
   "cell_type": "code",
   "execution_count": null,
   "id": "4f3fde03",
   "metadata": {},
   "outputs": [],
   "source": [
    "import sys\n",
    "x = sys.stdin.readline()\n",
    "a = int(int(x)/10)\n",
    "b = int(int(x)%10)   \n",
    "originx=10*a+b\n",
    "count = 0\n",
    "while True:\n",
    "    count+=1\n",
    "    c = a+b\n",
    "    a = b\n",
    "    b = int(c%10)\n",
    "    answer = 10*a+b\n",
    "    if originx == answer:\n",
    "        print(count)\n",
    "        break"
   ]
  }
 ],
 "metadata": {
  "kernelspec": {
   "display_name": "Python 3 (ipykernel)",
   "language": "python",
   "name": "python3"
  },
  "language_info": {
   "codemirror_mode": {
    "name": "ipython",
    "version": 3
   },
   "file_extension": ".py",
   "mimetype": "text/x-python",
   "name": "python",
   "nbconvert_exporter": "python",
   "pygments_lexer": "ipython3",
   "version": "3.10.7"
  }
 },
 "nbformat": 4,
 "nbformat_minor": 5
}
