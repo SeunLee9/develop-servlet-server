{
 "cells": [
  {
   "cell_type": "code",
   "execution_count": null,
   "id": "ee0060b6",
   "metadata": {},
   "outputs": [],
   "source": [
    "import sys\n",
    "#a = int(sys.stdin.readline())\n",
    "#b = list(map(int, sys.stdin.readline().split()))\n",
    "a = 2\n",
    "b = [60, 65]\n",
    "yt = 0\n",
    "mt = 0\n",
    "for i in range(a):\n",
    "    y = b[i]//30*10\n",
    "    if b[i]%30>0:\n",
    "        y += 10\n",
    "    m = b[i]//60*15\n",
    "    if b[i]%60>0:\n",
    "        m += 15\n",
    "    yt += y\n",
    "    mt += m\n",
    "    \n",
    "if yt>mt:\n",
    "    print(\"M\" + \" \" + str(mt))\n",
    "if yt<mt:\n",
    "    print(\"Y\" + \" \" + str(yt))\n",
    "if yt==mt:\n",
    "    print(\"Y\" + \" \" + \"M\" + \" \" + str(yt))"
   ]
  },
  {
   "cell_type": "code",
   "execution_count": null,
   "id": "08d3697b",
   "metadata": {},
   "outputs": [],
   "source": []
  },
  {
   "cell_type": "code",
   "execution_count": 3,
   "id": "c8acbc16",
   "metadata": {},
   "outputs": [
    {
     "ename": "ValueError",
     "evalue": "invalid literal for int() with base 10: ''",
     "output_type": "error",
     "traceback": [
      "\u001b[1;31m---------------------------------------------------------------------------\u001b[0m",
      "\u001b[1;31mValueError\u001b[0m                                Traceback (most recent call last)",
      "Cell \u001b[1;32mIn [3], line 1\u001b[0m\n\u001b[1;32m----> 1\u001b[0m a \u001b[38;5;241m=\u001b[39m \u001b[38;5;28;43mint\u001b[39;49m\u001b[43m(\u001b[49m\u001b[43msys\u001b[49m\u001b[38;5;241;43m.\u001b[39;49m\u001b[43mstdin\u001b[49m\u001b[38;5;241;43m.\u001b[39;49m\u001b[43mreadline\u001b[49m\u001b[43m(\u001b[49m\u001b[43m)\u001b[49m\u001b[43m)\u001b[49m\n",
      "\u001b[1;31mValueError\u001b[0m: invalid literal for int() with base 10: ''"
     ]
    }
   ],
   "source": []
  }
 ],
 "metadata": {
  "kernelspec": {
   "display_name": "Python 3 (ipykernel)",
   "language": "python",
   "name": "python3"
  },
  "language_info": {
   "codemirror_mode": {
    "name": "ipython",
    "version": 3
   },
   "file_extension": ".py",
   "mimetype": "text/x-python",
   "name": "python",
   "nbconvert_exporter": "python",
   "pygments_lexer": "ipython3",
   "version": "3.10.7"
  }
 },
 "nbformat": 4,
 "nbformat_minor": 5
}
