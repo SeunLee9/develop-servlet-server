{
 "cells": [
  {
   "cell_type": "code",
   "execution_count": 1,
   "id": "edca2398",
   "metadata": {},
   "outputs": [
    {
     "name": "stdout",
     "output_type": "stream",
     "text": [
      "hello world\n"
     ]
    }
   ],
   "source": [
    "# 기초 사용법"
   ]
  },
  {
   "cell_type": "code",
   "execution_count": 11,
   "id": "6beab326",
   "metadata": {},
   "outputs": [
    {
     "name": "stdout",
     "output_type": "stream",
     "text": [
      "hello world\n"
     ]
    },
    {
     "data": {
      "text/plain": [
       "900"
      ]
     },
     "execution_count": 11,
     "metadata": {},
     "output_type": "execute_result"
    }
   ],
   "source": [
    "# 한줄한줄은 셀이라고 부른다\n",
    "\n",
    "print(\"hello world\")\n",
    "\n",
    "a = 10\n",
    "b = 20\n",
    "\n",
    "c = a+b\n",
    "c\n",
    "\n",
    "d = c * 30\n",
    "d\n",
    "#print(d)라고 해도나옴"
   ]
  },
  {
   "cell_type": "code",
   "execution_count": null,
   "id": "31b964aa",
   "metadata": {},
   "outputs": [],
   "source": []
  },
  {
   "cell_type": "code",
   "execution_count": 9,
   "id": "1a806a49",
   "metadata": {},
   "outputs": [],
   "source": [
    "# %pwd \n",
    "# %run hello.py\n"
   ]
  },
  {
   "cell_type": "code",
   "execution_count": 10,
   "id": "067cf863",
   "metadata": {},
   "outputs": [
    {
     "name": "stdout",
     "output_type": "stream",
     "text": [
      "hello world\n"
     ]
    }
   ],
   "source": [
    "%run hello.py"
   ]
  },
  {
   "cell_type": "code",
   "execution_count": null,
   "id": "22632143",
   "metadata": {},
   "outputs": [],
   "source": [
    "# cmd 창에 가서\n",
    "# >>> python hello.py\n",
    "#이렇게 슬수도이슴"
   ]
  },
  {
   "cell_type": "code",
   "execution_count": 7,
   "id": "66957cf4",
   "metadata": {},
   "outputs": [
    {
     "data": {
      "text/plain": [
       "900"
      ]
     },
     "execution_count": 7,
     "metadata": {},
     "output_type": "execute_result"
    }
   ],
   "source": []
  },
  {
   "cell_type": "code",
   "execution_count": null,
   "id": "d7d8476a",
   "metadata": {},
   "outputs": [],
   "source": []
  },
  {
   "cell_type": "code",
   "execution_count": 12,
   "id": "9102119b",
   "metadata": {},
   "outputs": [],
   "source": [
    "# 탭 자동완성기능"
   ]
  },
  {
   "cell_type": "code",
   "execution_count": 13,
   "id": "5bb0210c",
   "metadata": {},
   "outputs": [],
   "source": [
    "an_apple = 27\n",
    "an_example = 42"
   ]
  },
  {
   "cell_type": "code",
   "execution_count": 14,
   "id": "59107278",
   "metadata": {},
   "outputs": [
    {
     "ename": "SyntaxError",
     "evalue": "invalid syntax (2754852469.py, line 1)",
     "output_type": "error",
     "traceback": [
      "\u001b[1;36m  Input \u001b[1;32mIn [14]\u001b[1;36m\u001b[0m\n\u001b[1;33m    an<tab>\u001b[0m\n\u001b[1;37m           ^\u001b[0m\n\u001b[1;31mSyntaxError\u001b[0m\u001b[1;31m:\u001b[0m invalid syntax\n"
     ]
    }
   ],
   "source": [
    "an<tab>"
   ]
  },
  {
   "cell_type": "code",
   "execution_count": 15,
   "id": "9a93e980",
   "metadata": {},
   "outputs": [],
   "source": [
    "# python의 list 자료형\n",
    "score = [90, 95, 100]"
   ]
  },
  {
   "cell_type": "code",
   "execution_count": null,
   "id": "a06e9430",
   "metadata": {},
   "outputs": [],
   "source": [
    "# list에서 ㅔㅈ공하는 메서드(함수)\n",
    "score.<tap 키>"
   ]
  },
  {
   "cell_type": "code",
   "execution_count": 16,
   "id": "c2648ec4",
   "metadata": {},
   "outputs": [],
   "source": [
    "#자기관찰(도움말)"
   ]
  },
  {
   "cell_type": "code",
   "execution_count": null,
   "id": "7d657c03",
   "metadata": {},
   "outputs": [],
   "source": [
    "# list 자료형인 score 객체에 대한 설명 (?를 앞뒤에 할수있음)\n",
    "socre?"
   ]
  },
  {
   "cell_type": "code",
   "execution_count": null,
   "id": "c3781145",
   "metadata": {},
   "outputs": [],
   "source": [
    "?score"
   ]
  },
  {
   "cell_type": "code",
   "execution_count": 18,
   "id": "aa88a27d",
   "metadata": {},
   "outputs": [
    {
     "name": "stdout",
     "output_type": "stream",
     "text": [
      "CPU times: total: 0 ns\n",
      "Wall time: 0 ns\n"
     ]
    }
   ],
   "source": [
    "%time c = a+b"
   ]
  },
  {
   "cell_type": "code",
   "execution_count": 19,
   "id": "e5e8ced0",
   "metadata": {},
   "outputs": [
    {
     "name": "stdout",
     "output_type": "stream",
     "text": [
      "71.8 ns ± 3.5 ns per loop (mean ± std. dev. of 7 runs, 10,000,000 loops each)\n"
     ]
    }
   ],
   "source": [
    "%timeit c = a + b"
   ]
  },
  {
   "cell_type": "code",
   "execution_count": 17,
   "id": "e580e666",
   "metadata": {},
   "outputs": [],
   "source": [
    "import numpy as np"
   ]
  },
  {
   "cell_type": "code",
   "execution_count": 21,
   "id": "9b8ef74b",
   "metadata": {},
   "outputs": [
    {
     "data": {
      "text/plain": [
       "array([[ 0.72201926, -0.76680913, -0.14168043, ...,  0.06345383,\n",
       "        -0.50662303,  0.17323965],\n",
       "       [-0.52081617, -0.90703082,  0.06644681, ...,  0.06065055,\n",
       "        -1.03963971, -0.07330648],\n",
       "       [-0.83996452, -0.65591061, -1.86611997, ..., -0.81087682,\n",
       "        -1.86374174,  1.37881373],\n",
       "       ...,\n",
       "       [ 0.72380854, -1.111991  ,  0.14392167, ...,  1.16179919,\n",
       "        -1.14808131,  0.68140939],\n",
       "       [ 0.63294657, -1.30593425, -0.17444343, ...,  0.56302554,\n",
       "         0.18476522, -0.21832466],\n",
       "       [ 0.84774061,  0.04081377, -0.42906295, ..., -1.39268694,\n",
       "         1.39317134, -0.77772349]])"
      ]
     },
     "execution_count": 21,
     "metadata": {},
     "output_type": "execute_result"
    }
   ],
   "source": [
    "a = np.random.randn(100,100) #여기있는애는 정규분포를 따른대\n",
    "#randn(행렬의 형상)이 하는 역할 : 정규분포를 따르는 데이터를 행렬의 형상만큼 무작위로 만들어줌 내가 적은건 2행2열 만들어준거임\n",
    "a"
   ]
  },
  {
   "cell_type": "code",
   "execution_count": 22,
   "id": "30a276bc",
   "metadata": {},
   "outputs": [
    {
     "name": "stdout",
     "output_type": "stream",
     "text": [
      "49.6 µs ± 3.65 µs per loop (mean ± std. dev. of 7 runs, 10,000 loops each)\n"
     ]
    }
   ],
   "source": [
    "%timeit np.dot(a,a)"
   ]
  },
  {
   "cell_type": "code",
   "execution_count": 23,
   "id": "caca28c4",
   "metadata": {},
   "outputs": [],
   "source": [
    "%magic"
   ]
  },
  {
   "cell_type": "code",
   "execution_count": 24,
   "id": "5f7fd695",
   "metadata": {},
   "outputs": [],
   "source": [
    "%quickref"
   ]
  },
  {
   "cell_type": "code",
   "execution_count": 25,
   "id": "dcdbc7eb",
   "metadata": {},
   "outputs": [
    {
     "data": {
      "text/plain": [
       "int"
      ]
     },
     "execution_count": 25,
     "metadata": {},
     "output_type": "execute_result"
    }
   ],
   "source": [
    "a = 2\n",
    "type(a) # type(a) : a의 자료형을 알 수 있는 함수"
   ]
  },
  {
   "cell_type": "code",
   "execution_count": 26,
   "id": "3483a024",
   "metadata": {},
   "outputs": [
    {
     "data": {
      "text/plain": [
       "float"
      ]
     },
     "execution_count": 26,
     "metadata": {},
     "output_type": "execute_result"
    }
   ],
   "source": [
    "b = 2.3\n",
    "type(b) # type(b) : b의 자료형을 알 수 있는 함수"
   ]
  },
  {
   "cell_type": "code",
   "execution_count": 28,
   "id": "4b4ca304",
   "metadata": {},
   "outputs": [
    {
     "name": "stdout",
     "output_type": "stream",
     "text": [
      "2.3 <class 'float'>\n",
      "2 <class 'int'>\n"
     ]
    }
   ],
   "source": [
    "# 자료형 변환 (type casting)\n",
    "print(b, type(b)) # before 자료형 변환 : 2.3 float\n",
    "print(int(b),type(int(b))) #after 자료형 변환 : 2 int"
   ]
  },
  {
   "cell_type": "code",
   "execution_count": 31,
   "id": "4a45e013",
   "metadata": {},
   "outputs": [
    {
     "name": "stdout",
     "output_type": "stream",
     "text": [
      "10 <class 'str'>\n",
      "10 <class 'int'>\n"
     ]
    }
   ],
   "source": [
    "print('10',type('10')) # before 자료형 변환 #'10'이라는애는 문자열이다\n",
    "print(int('10'), type(int('10'))) # after 자료형 변환"
   ]
  },
  {
   "cell_type": "code",
   "execution_count": 33,
   "id": "a9a578f3",
   "metadata": {},
   "outputs": [
    {
     "data": {
      "text/plain": [
       "(2, 1)"
      ]
     },
     "execution_count": 33,
     "metadata": {},
     "output_type": "execute_result"
    }
   ],
   "source": [
    "divmod(5, 2) # 몫과 나머지"
   ]
  },
  {
   "cell_type": "code",
   "execution_count": null,
   "id": "26eac5d9",
   "metadata": {},
   "outputs": [],
   "source": [
    "a == 3"
   ]
  },
  {
   "cell_type": "code",
   "execution_count": null,
   "id": "98dd615c",
   "metadata": {},
   "outputs": [],
   "source": [
    "%timeit "
   ]
  }
 ],
 "metadata": {
  "kernelspec": {
   "display_name": "Python 3 (ipykernel)",
   "language": "python",
   "name": "python3"
  },
  "language_info": {
   "codemirror_mode": {
    "name": "ipython",
    "version": 3
   },
   "file_extension": ".py",
   "mimetype": "text/x-python",
   "name": "python",
   "nbconvert_exporter": "python",
   "pygments_lexer": "ipython3",
   "version": "3.9.12"
  }
 },
 "nbformat": 4,
 "nbformat_minor": 5
}
